{
 "cells": [
  {
   "cell_type": "code",
   "execution_count": 1,
   "metadata": {},
   "outputs": [],
   "source": [
    "import os\n",
    "import pandas as pd\n",
    "from data_copying_tests import C_T\n",
    "from sklearn.cluster import KMeans\n"
   ]
  },
  {
   "cell_type": "code",
   "execution_count": null,
   "metadata": {},
   "outputs": [],
   "source": [
    "os.chdir(os.path.expanduser('~/git/mf-copula/'))"
   ]
  },
  {
   "cell_type": "code",
   "execution_count": 3,
   "metadata": {},
   "outputs": [],
   "source": [
    "human_dir = './HNTT/preprocessed/human'\n",
    "hybrid_dir = './HNTT/preprocessed/hybrid'\n",
    "symbolic_dir = './HNTT/preprocessed/symbolic'"
   ]
  },
  {
   "cell_type": "code",
   "execution_count": 4,
   "metadata": {},
   "outputs": [],
   "source": [
    "human_paths = [pd.read_csv(os.path.join(human_dir, csv)) for csv in os.listdir(human_dir) if csv.endswith('.csv')]\n",
    "hybrid_paths = [pd.read_csv(os.path.join(hybrid_dir, csv)) for csv in os.listdir(hybrid_dir) if csv.endswith('.csv')]\n",
    "symbolic_paths = [pd.read_csv(os.path.join(symbolic_dir, csv)) for csv in os.listdir(symbolic_dir) if csv.endswith('.csv')]"
   ]
  },
  {
   "cell_type": "code",
   "execution_count": 5,
   "metadata": {},
   "outputs": [],
   "source": [
    "experiments_dir = './synthetic/output/ntt-human-mf-ban10-chol2-10'\n",
    "mf_ban10_chol2_10_paths = [\n",
    "    pd.read_csv(os.path.join(experiments_dir, synthetic_dir, csv), index_col=0)\n",
    "    for synthetic_dir in os.listdir(experiments_dir)\n",
    "    if len(os.listdir(os.path.join(experiments_dir, synthetic_dir))) > 1\n",
    "    for csv in os.listdir(os.path.join(experiments_dir, synthetic_dir))\n",
    "    if csv != 'original.csv'    \n",
    "]"
   ]
  },
  {
   "cell_type": "code",
   "execution_count": 6,
   "metadata": {},
   "outputs": [],
   "source": [
    "experiments_dir = './synthetic/output/ntt-human-mf-ban10-chol2-150'\n",
    "mf_ban10_chol2_150_paths = [\n",
    "    pd.read_csv(os.path.join(experiments_dir, synthetic_dir, csv), index_col=0)\n",
    "    for synthetic_dir in os.listdir(experiments_dir)\n",
    "    if len(os.listdir(os.path.join(experiments_dir, synthetic_dir))) > 1\n",
    "    for csv in os.listdir(os.path.join(experiments_dir, synthetic_dir))\n",
    "    if csv != 'original.csv'    \n",
    "]"
   ]
  },
  {
   "cell_type": "code",
   "execution_count": 7,
   "metadata": {},
   "outputs": [],
   "source": [
    "human_masks = [pd.read_csv(os.path.join('./HNTT/preprocessed/human', mask)) for mask in human_dir if mask.endswith('.txt')]\n",
    "hybrid_masks = [pd.read_csv(os.path.join('./HNTT/preprocessed/hybrid', mask)) for mask in hybrid_dir if mask.endswith('.txt')]\n",
    "symbolic_masks = [pd.read_csv(os.path.join('./HNTT/preprocessed/symbolic', mask)) for mask in symbolic_dir if mask.endswith('.txt')]"
   ]
  },
  {
   "cell_type": "code",
   "execution_count": 8,
   "metadata": {},
   "outputs": [],
   "source": [
    "def reshape(df_list, dim=15):\n",
    "    df = pd.concat(df_list, axis=0, ignore_index=True)\n",
    "    df_reshaped = df.to_numpy()[:(-(df.shape[0] % dim) if df.shape[0] % dim > 0 else df.shape[0])].reshape(-1, dim)\n",
    "\n",
    "    return df_reshaped"
   ]
  },
  {
   "cell_type": "code",
   "execution_count": 9,
   "metadata": {},
   "outputs": [],
   "source": [
    "def C_T_fit(T, Qm, Pn, tau=0, n_clusters=5):\n",
    "    KM = KMeans(n_clusters).fit(T)\n",
    "\n",
    "    T_labels = KM.predict(T)\n",
    "    Pn_labels = KM.predict(Pn)\n",
    "    Qm_labels = KM.predict(Qm)\n",
    "\n",
    "    return C_T(Pn, Pn_labels, Qm, Qm_labels, T, T_labels, tau)"
   ]
  },
  {
   "cell_type": "code",
   "execution_count": 10,
   "metadata": {},
   "outputs": [],
   "source": [
    "dim=15\n",
    "\n",
    "human_reshaped = reshape(human_paths, dim=dim)\n",
    "hybrid_reshaped = reshape(hybrid_paths, dim=dim)\n",
    "symbolic_reshaped = reshape(symbolic_paths, dim=dim)"
   ]
  },
  {
   "cell_type": "markdown",
   "metadata": {},
   "source": [
    "### Human - Hybrid"
   ]
  },
  {
   "cell_type": "code",
   "execution_count": 11,
   "metadata": {},
   "outputs": [
    {
     "data": {
      "text/plain": [
       "17.406137930899995"
      ]
     },
     "execution_count": 11,
     "metadata": {},
     "output_type": "execute_result"
    }
   ],
   "source": [
    "C_T_fit(human_reshaped, hybrid_reshaped, human_reshaped, tau=0.001, n_clusters=len(human_paths))"
   ]
  },
  {
   "cell_type": "code",
   "execution_count": 12,
   "metadata": {},
   "outputs": [
    {
     "data": {
      "text/plain": [
       "16.319875329728834"
      ]
     },
     "execution_count": 12,
     "metadata": {},
     "output_type": "execute_result"
    }
   ],
   "source": [
    "C_T_fit(hybrid_reshaped, human_reshaped, hybrid_reshaped, tau=0.001, n_clusters=len(hybrid_paths))"
   ]
  },
  {
   "cell_type": "markdown",
   "metadata": {},
   "source": [
    "### Human - Symbolic"
   ]
  },
  {
   "cell_type": "code",
   "execution_count": 13,
   "metadata": {},
   "outputs": [
    {
     "data": {
      "text/plain": [
       "14.95854642959297"
      ]
     },
     "execution_count": 13,
     "metadata": {},
     "output_type": "execute_result"
    }
   ],
   "source": [
    "C_T_fit(human_reshaped, symbolic_reshaped, human_reshaped, tau=0.001, n_clusters=len(human_paths))"
   ]
  },
  {
   "cell_type": "code",
   "execution_count": 14,
   "metadata": {},
   "outputs": [
    {
     "data": {
      "text/plain": [
       "16.026263986031097"
      ]
     },
     "execution_count": 14,
     "metadata": {},
     "output_type": "execute_result"
    }
   ],
   "source": [
    "C_T_fit(symbolic_reshaped, human_reshaped, symbolic_reshaped, tau=0.001, n_clusters=len(symbolic_paths))"
   ]
  },
  {
   "cell_type": "markdown",
   "metadata": {},
   "source": [
    "### Hybrid - Symbolic"
   ]
  },
  {
   "cell_type": "code",
   "execution_count": 15,
   "metadata": {},
   "outputs": [
    {
     "data": {
      "text/plain": [
       "14.009729982166633"
      ]
     },
     "execution_count": 15,
     "metadata": {},
     "output_type": "execute_result"
    }
   ],
   "source": [
    "C_T_fit(hybrid_reshaped, symbolic_reshaped, hybrid_reshaped, tau=0.001, n_clusters=len(hybrid_paths))"
   ]
  },
  {
   "cell_type": "code",
   "execution_count": 16,
   "metadata": {},
   "outputs": [
    {
     "data": {
      "text/plain": [
       "15.289552473302415"
      ]
     },
     "execution_count": 16,
     "metadata": {},
     "output_type": "execute_result"
    }
   ],
   "source": [
    "C_T_fit(symbolic_reshaped, hybrid_reshaped, symbolic_reshaped, tau=0.001, n_clusters=len(symbolic_paths))"
   ]
  },
  {
   "cell_type": "markdown",
   "metadata": {},
   "source": [
    "### Human - Synthetic"
   ]
  },
  {
   "cell_type": "code",
   "execution_count": 17,
   "metadata": {},
   "outputs": [],
   "source": [
    "mf_ban10_chol2_10_reshaped = reshape(mf_ban10_chol2_10_paths, dim=dim)\n",
    "mf_ban10_chol2_150_reshaped = reshape(mf_ban10_chol2_150_paths, dim=dim)"
   ]
  },
  {
   "cell_type": "code",
   "execution_count": 18,
   "metadata": {},
   "outputs": [
    {
     "data": {
      "text/plain": [
       "-10.00079246206611"
      ]
     },
     "execution_count": 18,
     "metadata": {},
     "output_type": "execute_result"
    }
   ],
   "source": [
    "C_T_fit(human_reshaped, mf_ban10_chol2_10_reshaped, hybrid_reshaped, tau=0, n_clusters=len(human_paths)//8)"
   ]
  },
  {
   "cell_type": "code",
   "execution_count": 19,
   "metadata": {},
   "outputs": [
    {
     "data": {
      "text/plain": [
       "-6.006523840146959"
      ]
     },
     "execution_count": 19,
     "metadata": {},
     "output_type": "execute_result"
    }
   ],
   "source": [
    "C_T_fit(human_reshaped, mf_ban10_chol2_10_reshaped, symbolic_reshaped, tau=0, n_clusters=len(human_paths)//8)"
   ]
  },
  {
   "cell_type": "code",
   "execution_count": 20,
   "metadata": {},
   "outputs": [
    {
     "data": {
      "text/plain": [
       "9.82990729524092"
      ]
     },
     "execution_count": 20,
     "metadata": {},
     "output_type": "execute_result"
    }
   ],
   "source": [
    "C_T_fit(human_reshaped, mf_ban10_chol2_150_reshaped, hybrid_reshaped, tau=0, n_clusters=len(human_paths)//8)"
   ]
  },
  {
   "cell_type": "code",
   "execution_count": 21,
   "metadata": {},
   "outputs": [
    {
     "data": {
      "text/plain": [
       "13.621126082126887"
      ]
     },
     "execution_count": 21,
     "metadata": {},
     "output_type": "execute_result"
    }
   ],
   "source": [
    "C_T_fit(human_reshaped, mf_ban10_chol2_150_reshaped, symbolic_reshaped, tau=0, n_clusters=len(human_paths)//8)"
   ]
  }
 ],
 "metadata": {
  "kernelspec": {
   "display_name": "traj",
   "language": "python",
   "name": "python3"
  },
  "language_info": {
   "codemirror_mode": {
    "name": "ipython",
    "version": 3
   },
   "file_extension": ".py",
   "mimetype": "text/x-python",
   "name": "python",
   "nbconvert_exporter": "python",
   "pygments_lexer": "ipython3",
   "version": "3.11.5"
  }
 },
 "nbformat": 4,
 "nbformat_minor": 2
}
